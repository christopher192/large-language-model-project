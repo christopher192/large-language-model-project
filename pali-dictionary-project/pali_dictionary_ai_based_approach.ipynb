{
 "cells": [
  {
   "cell_type": "code",
   "execution_count": 238,
   "metadata": {},
   "outputs": [],
   "source": [
    "# import libraries\n",
    "import os\n",
    "import json\n",
    "import uuid\n",
    "import datetime\n",
    "import pandas as pd\n",
    "from openai import OpenAI\n",
    "from dotenv import load_dotenv"
   ]
  },
  {
   "cell_type": "code",
   "execution_count": 239,
   "metadata": {},
   "outputs": [],
   "source": [
    "# Load environment variables from .env file\n",
    "load_dotenv()\n",
    "\n",
    "# Get API key from environment variables\n",
    "open_ai_key = os.getenv(\"SBS_OPENAI_API_KEY\")\n",
    "\n",
    "# Initialize OpenAI client\n",
    "client = OpenAI()\n",
    "client.api_key = open_ai_key\n",
    "\n",
    "JSONL_FILE = \"requests.jsonl\"\n",
    "OUTPUT_FILE = \"output.jsonl\"\n",
    "VOCAB_FOLDER_PATH = \"pali_class/vocab\"\n",
    "EXERCISE_FOLDER_PATH = \"pali_class/exercises\""
   ]
  },
  {
   "cell_type": "code",
   "execution_count": null,
   "metadata": {},
   "outputs": [
    {
     "data": {
      "text/html": [
       "<div>\n",
       "<style scoped>\n",
       "    .dataframe tbody tr th:only-of-type {\n",
       "        vertical-align: middle;\n",
       "    }\n",
       "\n",
       "    .dataframe tbody tr th {\n",
       "        vertical-align: top;\n",
       "    }\n",
       "\n",
       "    .dataframe thead th {\n",
       "        text-align: right;\n",
       "    }\n",
       "</style>\n",
       "<table border=\"1\" class=\"dataframe\">\n",
       "  <thead>\n",
       "    <tr style=\"text-align: right;\">\n",
       "      <th></th>\n",
       "      <th>sutta_number</th>\n",
       "      <th>sutta_name</th>\n",
       "    </tr>\n",
       "  </thead>\n",
       "  <tbody>\n",
       "    <tr>\n",
       "      <th>0</th>\n",
       "      <td>AN2.1</td>\n",
       "      <td>vajjasuttaṃ</td>\n",
       "    </tr>\n",
       "    <tr>\n",
       "      <th>1</th>\n",
       "      <td>AN2.10</td>\n",
       "      <td>vassūpanāyikasuttaṃ</td>\n",
       "    </tr>\n",
       "    <tr>\n",
       "      <th>2</th>\n",
       "      <td>AN2.2</td>\n",
       "      <td>padhānasuttaṃ</td>\n",
       "    </tr>\n",
       "    <tr>\n",
       "      <th>3</th>\n",
       "      <td>AN2.3</td>\n",
       "      <td>tapanīyasuttaṃ</td>\n",
       "    </tr>\n",
       "    <tr>\n",
       "      <th>4</th>\n",
       "      <td>AN2.4</td>\n",
       "      <td>atapanīyasuttaṃ</td>\n",
       "    </tr>\n",
       "    <tr>\n",
       "      <th>...</th>\n",
       "      <td>...</td>\n",
       "      <td>...</td>\n",
       "    </tr>\n",
       "    <tr>\n",
       "      <th>4807</th>\n",
       "      <td>VV81</td>\n",
       "      <td>kaṇḍakavimānavatthuṃ</td>\n",
       "    </tr>\n",
       "    <tr>\n",
       "      <th>4808</th>\n",
       "      <td>VV82</td>\n",
       "      <td>anekavaṇṇavimānavatthuṃ</td>\n",
       "    </tr>\n",
       "    <tr>\n",
       "      <th>4809</th>\n",
       "      <td>VV83</td>\n",
       "      <td>maṭṭhakuṇḍalīvimānavatthuṃ</td>\n",
       "    </tr>\n",
       "    <tr>\n",
       "      <th>4810</th>\n",
       "      <td>VV84</td>\n",
       "      <td>serīsakavimānavatthuṃ</td>\n",
       "    </tr>\n",
       "    <tr>\n",
       "      <th>4811</th>\n",
       "      <td>VV85</td>\n",
       "      <td>sunikkhittavimānavatthuṃ</td>\n",
       "    </tr>\n",
       "  </tbody>\n",
       "</table>\n",
       "<p>4812 rows × 2 columns</p>\n",
       "</div>"
      ],
      "text/plain": [
       "     sutta_number                  sutta_name\n",
       "0           AN2.1                 vajjasuttaṃ\n",
       "1          AN2.10         vassūpanāyikasuttaṃ\n",
       "2           AN2.2               padhānasuttaṃ\n",
       "3           AN2.3              tapanīyasuttaṃ\n",
       "4           AN2.4             atapanīyasuttaṃ\n",
       "...           ...                         ...\n",
       "4807         VV81        kaṇḍakavimānavatthuṃ\n",
       "4808         VV82     anekavaṇṇavimānavatthuṃ\n",
       "4809         VV83  maṭṭhakuṇḍalīvimānavatthuṃ\n",
       "4810         VV84       serīsakavimānavatthuṃ\n",
       "4811         VV85    sunikkhittavimānavatthuṃ\n",
       "\n",
       "[4812 rows x 2 columns]"
      ]
     },
     "execution_count": 269,
     "metadata": {},
     "output_type": "execute_result"
    }
   ],
   "source": [
    "new_suttas = pd.read_csv(\"pali_class/new_suttas.csv\")"
   ]
  },
  {
   "cell_type": "code",
   "execution_count": 240,
   "metadata": {},
   "outputs": [
    {
     "name": "stdout",
     "output_type": "stream",
     "text": [
      "Match found in file: vocab_class_2.csv\n"
     ]
    },
    {
     "data": {
      "text/plain": [
       "{'id': '13479',\n",
       " 'pali': 'itipi',\n",
       " 'meaning': '(item being named); it is so; thus; just like this',\n",
       " 'pos': 'sandhi',\n",
       " 'exercise_number': '2'}"
      ]
     },
     "execution_count": 240,
     "metadata": {},
     "output_type": "execute_result"
    }
   ],
   "source": [
    "keyword = input(\"Enter a Pali word: \").strip() # Remove extra spaces\n",
    "\n",
    "def search_pali_in_csv(keyword):\n",
    "    \"\"\"Search for a Pali word in all CSV files in the folder.\"\"\"\n",
    "    result = {\n",
    "        \"id\": -1,\n",
    "        \"pali\": \"\",\n",
    "        \"meaning\": \"\",\n",
    "        \"pos\": \"\",\n",
    "        \"exercise_number\": \"\"\n",
    "    }\n",
    "\n",
    "    for filename in os.listdir(VOCAB_FOLDER_PATH):\n",
    "        if filename.endswith(\".csv\"): # Only search in CSV files\n",
    "            file_path = os.path.join(VOCAB_FOLDER_PATH, filename)\n",
    "            df = pd.read_csv(file_path, dtype=str) \n",
    "            match = df[df[\"pali\"] == keyword]\n",
    "\n",
    "            if not match.empty:\n",
    "                result[\"id\"] = match[\"id\"].values[0]\n",
    "                result[\"pali\"] = match[\"pali\"].values[0]\n",
    "                result[\"meaning\"] = match[\"meaning\"].values[0]\n",
    "                result[\"pos\"] = match[\"pos\"].values[0]\n",
    "                \n",
    "                print(\"Match found in file:\", filename)\n",
    "                \n",
    "                number = filename.split(\"_\")[-1].split(\".\")[0] # Extract the number\n",
    "                result[\"exercise_number\"] = number\n",
    "\n",
    "                break\n",
    "\n",
    "    if result[\"id\"] == -1:\n",
    "        print(\"No matches found\")\n",
    "\n",
    "    return result\n",
    "\n",
    "result = search_pali_in_csv(keyword)\n",
    "result"
   ]
  },
  {
   "cell_type": "code",
   "execution_count": 241,
   "metadata": {},
   "outputs": [
    {
     "name": "stdout",
     "output_type": "stream",
     "text": [
      "Found: exercises_class_2.txt\n",
      "Class 2 Exercises\n",
      "\n",
      "namo tassa bhagavato arahato sammā-sambuddhassa\t \t\t\t\t\t\n",
      "Homage to him, the Blessed One, the Worthy One, the fully Enlightened One.\n",
      " \n",
      "avijjāya tv'eva asesa-virāga-nirodhā saṅkhāra-nirodho, saṅkhāra-nirodhā viññāṇa-nirodho, viññāṇa-nirodhā nāmarūpa-nirodho, nāmarūpa-nirodhā saḷāyatana-nirodho, saḷāyatana-nirodhā phassa-nirodho, phassa-nirodhā vedanā-nirodho, vedanā-nirodhā taṇhā-nirodho, taṇhā-nirodhā upādāna-nirodho, upādāna-nirodhā bhava-nirodho, bhava-nirodhā jāti-nirodho, jāti-nirodhā jarā-maraṇaṃ soka-parideva-dukkha-domanass'upāyāsā nirujjhanti. \n",
      "But from the complete fading away and cessation of ignorance there is cessation of volitional formations; from the cessation of volitional formations, cessation of consciousness; from the cessation of consciousness, cessation of name-and-form; from the cessation of name-and-form, cessation of the six sense bases; from the cessation of the six sense bases, cessation of contact; from the cessation of contact, cessation of feeling; from the cessation of feeling, cessation of craving; from the cessation of craving, cessation of clinging; from the cessation of clinging, cessation of existence; from the cessation of existence, cessation of birth; from the cessation of birth, aging-and-death, sorrow, lamentation, pain, displeasure, and despair cease. \n",
      " \n",
      "buddho kira loke uppanno SN10.8\n",
      "A Buddha has indeed arisen in the world.\n",
      " \n",
      "TH 257 simpl\n",
      "araññe rukkhānaṃ mūlesu, kandarāsu guhāsu ca\n",
      "At the foot of a tree in a forest, in valleys, and in caves.\n",
      " \n",
      "DN 22.1  simpl\n",
      "maggo hoti sokaparidevānaṃ samatikkamāya, ñāyassa adhigamāya, nibbānassa sacchikiriyāya.\n",
      "It is the path for the overcoming of sorrow and lamentation, for the attainment of the (right) method, for personal experience of total emancipation.\n",
      " \n",
      "AN 10.48\n",
      "uttarissa manussassa dhammo alam’ariyo ñāṇadassanassa viseso\n",
      "the state of a superior human being, the attainment of knowing and seeing, suitable for a noble person,\n",
      " \n",
      "DN 22.5 \n",
      "atthi imasmiṃ kāye kesā lomā nakhā dantā taco\n",
      "There are in this body, hair [on the head], hairs of the body, nails, teeth, skin.\n",
      " \n",
      "VIN PAT SE 55 simpl\n",
      "na sāmisena hatthena pānīyassa thālakaṃ paṭiggahessāmi iti sikkhā karaṇīyā\n",
      "I will not take a cup for drinking water with a soiled hand.\n",
      " \n",
      "VIN PAT NID nidānuddeso\n",
      "saṅgho uposathaṃ kareyya, pātimokkhaṃ uddiseyya\n",
      "The community of monks could make an observance day [and] would recite the training rules.\n",
      "\n",
      "\n",
      "itipi so bhagavā arahaṃ sammāsambuddho vijjācaraṇasampanno sugato lokavidū anuttaro purisadammasārathi satthā devamanussānaṃ buddho bhagavā’ti\n",
      "It is so (thus) “He [is] the Blessed One, the Worthy One, the fully Enlightened One, endowed with wisdom and ethical conduct, Fortunate One, knower of the world, incomparable leader of persons to be tamed, teacher of gods and humans, the Awakened One, the Blessed One.”\n",
      " \n",
      "1.\tkāyassa bhedā VIN1.1.3\n",
      "From the break-up of the body\n",
      "2.\tsamaṇo gotamo AN10.29\n",
      "The recluse Gotama\n",
      "3.\tvirāgāya nirodhāya SN22.57\n",
      "for dispassion, for cessation\n",
      "4.\tbālassa mohāya TH251\n",
      "for the delusion of the fool\n",
      "5.\tkāmehi lokamhi (TH 251)\n",
      "[there is no satisfaction] by sensual pleasures in the world\n",
      "6.\tdevā manussā\n",
      "gods and humans\n",
      "7.\tcāgo paṭinissaggo anālayo SN56.11\n",
      "The relinquishing, the abandonment, the non-attachment\n",
      "8.\tpāde pādaṃ (MN 107)\n",
      "[he places] a foot on a foot\n",
      "9.\tdhammānaṃ uppādāya chandaṃ (DN 22.18)\n",
      "[he arouses] desire for the arising of states of mind\n",
      "10.\tkhandhānaṃ bhedo VIBH6.1\n",
      "the break-up of the aggregates\n",
      "11.\t% dhammā virāgāya (AN 8.53) \n",
      "[these] things/qualities [lead] to dispassion\n",
      "12.\tdhammā sekhassa AN8.79\n",
      "qualities of a trainee\n",
      "13.\tsamaṇena vā brāhmaṇena vā devena vā mārena vā SN56.11\n",
      "with either a recluse or a brahmin or a deity or Mara\n",
      "14.\tsaṅkhārā ābādhāya (SN 22.59) %\n",
      "Volitional formations [are conducive for] disease\n",
      "15.\tsokehi paridevehi dukkhehi domanassehi upāyāsehi (SN 35.28)\n",
      "(burning) with griefs, lamentations, sufferings, distresses, afflictions\n",
      "16.\tdhammo vinayo \n",
      "The Doctrine-Discipline\n",
      "17.\tvinipātaṃ nirayaṃ (SN 12.41)\n",
      "[reborn] in a state of suffering, in hell.\n",
      "18.\taparena samayena buddho\n",
      "on another occasion, the Awakened One…\n",
      "19.\tgabbhe cīvaraṃ VIN1.4.1.2\n",
      "the robe in the room\n",
      "20.\tāvāse vassaṃ (VIN 1.1.4)\n",
      "(entered) the rainy season at the dwelling place.\n",
      "21.\tnīvaraṇehi brāhmaṇo (MN 99)\n",
      "The brahmin [filled] with the [five] hindrances\n",
      "22.\tkāme brāhmaṇa\n",
      "O, brahmin! … sensual pleasures\n",
      "23.\tatthamhi sahāyā (DHP 331)\n",
      "[Good are] friends in [arisen] need \n",
      "[Good are] friends when need [arises]\n",
      "24.\tgotamo sāvake … gotamassa sāvakesu (MN 35)\n",
      "Gotama [trains] disciples…. Gotama’s [instruction presented] to disciples\n",
      "25.\tkassapassa vinayasmiṃ SN19.21\n",
      "in the discipline of the Kassapa\n",
      "26.\t$ saṅghamhā saṅgho (AN 8.19) \n",
      "[far] from the Saṅgha [and] the Saṅgha [is far from]\n"
     ]
    }
   ],
   "source": [
    "# Find exercise number\n",
    "exercise_number = result['exercise_number']\n",
    "found_exercise = False\n",
    "target_exercise = \"\"\n",
    "exercise_data = \"\"\n",
    "\n",
    "for filename in os.listdir(EXERCISE_FOLDER_PATH):\n",
    "    if filename.endswith(\".txt\") and f\"_{exercise_number}.\" in filename:\n",
    "        found_exercise = True\n",
    "        target_exercise = filename\n",
    "        print(\"Found:\", filename)\n",
    "\n",
    "if not found_exercise:\n",
    "    print(\"Exercise not found\")\n",
    "else:\n",
    "    exercise_data = open(os.path.join(EXERCISE_FOLDER_PATH, target_exercise), \"r\").read().strip()\n",
    "    print(exercise_data)"
   ]
  },
  {
   "cell_type": "code",
   "execution_count": 279,
   "metadata": {},
   "outputs": [],
   "source": [
    "SYSTEM_PROMPT = \"\"\"\n",
    "You are an AI assistant specialized in Pali language processing. Follow these instructions carefully:\n",
    "\n",
    "1. **Sentence Matching**:\n",
    "   - Identify sentences in the exercise dataset that contain the given Pali word, including its declensions and conjugated forms.\n",
    "   - Use the provided **English translation** of the given Pali word to better understand its meaning and ensure accurate sentence selection.\n",
    "\n",
    "2. **Extract and Structure Data**:\n",
    "   - Extract the **source reference** for the selected sentence.\n",
    "   - Extract the **corresponding English translation** for the sentence.\n",
    "   - After obtaining the **source reference**, retrieve the corresponding **sutta reference**.\n",
    "   - Example: If **source reference** (known as sutta number) is `\"AN2.1\"`, the **sutta reference** (known as sutta name) should be `\"vajjasuttaṃ\"`.\n",
    "   - If the **\"(simpl)\"** found around **source reference**, format the `class_source` as:  \n",
    "     `\"DN 19.7 (simpl)\"`\n",
    "   - If **\"(simpl)\"** is **not present** around **source reference**, format normally as:  \n",
    "     `\"DN 19.7\"`\n",
    "\n",
    "3. **Special Formatting for `class_source`**:\n",
    "   - If the **\"(simpl)\"** marker is present around the **source reference**, format it as:\n",
    "      ```\n",
    "      \"class_source\": \"DN 19.7 (simpl)\"\n",
    "      ```\n",
    "   - If **\"(simpl)\"** is **not present**, format normally as:\n",
    "      ```\n",
    "      \"class_source\": \"DN 19.7\"\n",
    "      ```\n",
    "\n",
    "4. **Text Formatting**:\n",
    "   - **Bold the target Pali word in `class_example`** by wrapping the **exact matched form** of the word in `<b></b>`.\n",
    "   - Ensure **all occurrences** of the word in the sentence are bolded.\n",
    "   - Example: If the target word is **dhamma**,  \n",
    "     - Sentence: `\"Ayaṃ dhammo sanantano.\"`  \n",
    "     - Output: `\"Ayaṃ <b>dhammo</b> sanantano.\"`\n",
    "\n",
    "5. **Formatting Rules**:\n",
    "   - **Ensure strict spacing in `class_source`**:  \n",
    "     - Always format it as **\"AN 10.48\"**, **\"MN 1\"**, **\"DN 22\"**, etc.\n",
    "     - There must be **a space** between the collection (e.g., AN, MN, DN) and the number.\n",
    "     - Do **not** return `\"AN10.48\"`, `\"MN1\"`, etc.\n",
    "\n",
    "6. **Output Format**:\n",
    "   - Return the result in **JSON format** with the following structure:\n",
    "     {\n",
    "       \"id\": \"<Pali ID>\",\n",
    "       \"pali\": \"<Pali word>\",\n",
    "       \"class_source\": \"<Source reference>\",\n",
    "       \"class_sutta\": \"<Sutta reference>\",\n",
    "       \"class_example\": \"<Selected sentence with <b>Pali word</b> highlighted>\",\n",
    "       \"english_translation\": \"<English translation>\"\n",
    "     }\n",
    "   - If no valid sentence is found, return an empty JSON object `{}`.\n",
    "   - Do **not** wrap JSON in triple backticks (```json ... ```).\n",
    "\"\"\""
   ]
  },
  {
   "cell_type": "code",
   "execution_count": null,
   "metadata": {},
   "outputs": [],
   "source": [
    "USER_PROMPT = f\"\"\"\n",
    "For the Pali word: \"{result['pali']}\" and its id: \"{result['id']}\", which has \"{result['pos']}\" as its grammatical part of speech and \"{result['meaning']}\" as English translation, find example sentence in exercise data: \"{exercise_data}\".\n",
    "\"\"\""
   ]
  },
  {
   "cell_type": "code",
   "execution_count": 285,
   "metadata": {},
   "outputs": [
    {
     "name": "stdout",
     "output_type": "stream",
     "text": [
      "{\n",
      "    \"id\": \"13479\",\n",
      "    \"pali\": \"itipi\",\n",
      "    \"class_source\": \"DN 22.5\",\n",
      "    \"class_sutta\": \"mahāsatipaṭṭhānasuttaṃ\",\n",
      "    \"class_example\": \"atthi imasmiṃ kāye kesā lomā nakhā dantā taco. It is in this body, hair, hair, nails, teeth, and skin.\",\n",
      "    \"english_translation\": \"There are in this body, hair [on the head], hairs of the body, nails, teeth, skin.\"\n",
      "}\n",
      "[]\n"
     ]
    }
   ],
   "source": [
    "# Define single request\n",
    "response = client.chat.completions.create(\n",
    "    model=\"gpt-3.5-turbo\",\n",
    "    messages=[\n",
    "        {\n",
    "            \"role\": \"system\", \n",
    "            \"content\": SYSTEM_PROMPT\n",
    "        },\n",
    "        {\n",
    "            \"role\": \"user\", \n",
    "            \"content\": USER_PROMPT\n",
    "        }\n",
    "    ],\n",
    "    max_tokens=1000\n",
    ")\n",
    "\n",
    "# Extract response content\n",
    "response_text = response.choices[0].message.content\n",
    "\n",
    "# Convert string to JSON\n",
    "try:\n",
    "    response_json = json.loads(response_text)\n",
    "    print(json.dumps(response_json, indent=4, ensure_ascii=False)) # Pretty print\n",
    "    sutta_name = new_suttas[new_suttas['sutta_number'] == response_json['class_source'].replace(\" \", \"\").replace(\"(simpl)\", \"\")][\"sutta_name\"].tolist()\n",
    "    print(sutta_name)\n",
    "except json.JSONDecodeError:\n",
    "    print(\"Invalid JSON response:\", response_text)"
   ]
  },
  {
   "cell_type": "code",
   "execution_count": null,
   "metadata": {},
   "outputs": [
    {
     "name": "stdout",
     "output_type": "stream",
     "text": [
      "Request saved to requests.jsonl\n"
     ]
    }
   ],
   "source": [
    "def generate_unique_id(user_id):\n",
    "    timestamp = datetime.datetime.now().strftime(\"%Y%m%d%H%M%S\") # Format: YYYYMMDDHHMMSS\n",
    "    unique_str = uuid.uuid4().hex\n",
    "    return f\"{user_id}-{timestamp}-{unique_str}\"\n",
    "\n",
    "# Generate a unique ID for the request (user-timestamp-unique)\n",
    "generate_unique_id = generate_unique_id(\"user-1\")\n",
    "\n",
    "request = {\n",
    "    \"custom_id\": generate_unique_id, \n",
    "    \"method\": \"POST\", \n",
    "    \"url\": \"/v1/chat/completions\", \n",
    "    \"body\": {\n",
    "        \"model\": \"gpt-3.5-turbo-0125\", \n",
    "        \"messages\": [\n",
    "            {\"role\": \"system\", \"content\": SYSTEM_PROMPT},\n",
    "            {\"role\": \"user\", \"content\": USER_PROMPT}\n",
    "        ],\n",
    "        \"max_tokens\": 1000\n",
    "    }\n",
    "}\n",
    "\n",
    "# Write to JSONL file (append mode for multiple requests)\n",
    "with open(JSONL_FILE, \"a\", encoding=\"utf-8\") as f:\n",
    "    json.dump(request, f) # Convert dictionary to JSON string\n",
    "    f.write(\"\\n\") # Newline for the next JSON object\n",
    "\n",
    "print(f\"Request saved to {JSONL_FILE}\")"
   ]
  },
  {
   "cell_type": "code",
   "execution_count": 85,
   "metadata": {},
   "outputs": [
    {
     "data": {
      "text/plain": [
       "FileObject(id='file-LAEqKjyGAPTrEXGxArwc2n', bytes=15116, created_at=1740116690, filename='requests.jsonl', object='file', purpose='batch', status='processed', status_details=None, expires_at=None)"
      ]
     },
     "execution_count": 85,
     "metadata": {},
     "output_type": "execute_result"
    }
   ],
   "source": [
    "batch_input_file = client.files.create(\n",
    "    file=open(JSONL_FILE, \"rb\"),\n",
    "    purpose=\"batch\"\n",
    ")\n",
    "\n",
    "batch_input_file"
   ]
  },
  {
   "cell_type": "code",
   "execution_count": 86,
   "metadata": {},
   "outputs": [
    {
     "name": "stdout",
     "output_type": "stream",
     "text": [
      "Batch ID: batch_67b812d7c18881909b030da0a490c343\n"
     ]
    }
   ],
   "source": [
    "batch_input_file_id = batch_input_file.id\n",
    "\n",
    "# Start the batch process and store the response\n",
    "batch_request = client.batches.create(\n",
    "    input_file_id=batch_input_file_id,\n",
    "    endpoint=\"/v1/chat/completions\",\n",
    "    completion_window=\"24h\",\n",
    "    metadata={\"description\": \"Automated batch processing\"}\n",
    ")\n",
    "\n",
    "# Get Batch ID\n",
    "batch_id = batch_request.id\n",
    "print(\"Batch ID:\", batch_id)"
   ]
  },
  {
   "cell_type": "code",
   "execution_count": 97,
   "metadata": {},
   "outputs": [
    {
     "data": {
      "text/plain": [
       "Batch(id='batch_67b812d7c18881909b030da0a490c343', completion_window='24h', created_at=1740116695, endpoint='/v1/chat/completions', input_file_id='file-LAEqKjyGAPTrEXGxArwc2n', object='batch', status='completed', cancelled_at=None, cancelling_at=None, completed_at=1740116789, error_file_id=None, errors=None, expired_at=None, expires_at=1740203095, failed_at=None, finalizing_at=1740116788, in_progress_at=1740116696, metadata={'description': 'Automated batch processing'}, output_file_id='file-3FNMaqZDxxS6uMEGkMK8mb', request_counts=BatchRequestCounts(completed=2, failed=0, total=2))"
      ]
     },
     "execution_count": 97,
     "metadata": {},
     "output_type": "execute_result"
    }
   ],
   "source": [
    "# Check batch status\n",
    "client.batches.retrieve(batch_id)"
   ]
  },
  {
   "cell_type": "code",
   "execution_count": 98,
   "metadata": {},
   "outputs": [
    {
     "name": "stdout",
     "output_type": "stream",
     "text": [
      "{\"id\": \"batch_req_67b81334c77c8190be644166a8e81b78\", \"custom_id\": \"user-1-20250221134424-bc7948efd66b4e0e870a75a64a950ce5\", \"response\": {\"status_code\": 200, \"request_id\": \"de88c96277332f548f0199f2eea352b5\", \"body\": {\"id\": \"chatcmpl-B3G9gE1c5IOOXWKxC13QIrEZynXCm\", \"object\": \"chat.completion\", \"created\": 1740116784, \"model\": \"gpt-3.5-turbo-0125\", \"choices\": [{\"index\": 0, \"message\": {\"role\": \"assistant\", \"content\": \"```json\\n{\\n  \\\"pali_sentence\\\": \\\"<b>attha 2.1</b>\\\",\\n  \\\"translation\\\": \\\"But from the complete fading away and cessation of ignorance there is cessation of volitional formations; from the cessation of volitional formations, cessation of consciousness; from the cessation of consciousness, cessation of name-and-form; from the cessation of name-and-form, cessation of the six sense bases; from the cessation of the six sense bases, cessation of contact; from the cessation of contact, cessation of feeling; from the cessation of feeling, cessation of craving; from the cessation of craving, cessation of clinging; from the cessation of clinging, cessation of existence; from the cessation of existence, cessation of birth; from the cessation of birth, aging-and-death, sorrow, lamentation, pain, displeasure, and despair cease.\\\",\\n  \\\"source\\\": \\\"DN 22.1\\\",\\n  \\\"flag_review\\\": false\\n}\\n```\", \"refusal\": null}, \"logprobs\": null, \"finish_reason\": \"stop\"}], \"usage\": {\"prompt_tokens\": 2152, \"completion_tokens\": 192, \"total_tokens\": 2344, \"prompt_tokens_details\": {\"cached_tokens\": 0, \"audio_tokens\": 0}, \"completion_tokens_details\": {\"reasoning_tokens\": 0, \"audio_tokens\": 0, \"accepted_prediction_tokens\": 0, \"rejected_prediction_tokens\": 0}}, \"service_tier\": \"default\", \"system_fingerprint\": null}}, \"error\": null}\n",
      "{\"id\": \"batch_req_67b81334d52c819089016cbd877744e9\", \"custom_id\": \"user-1-20250221134427-39f8a249fbdb4267943091c8df90ddea\", \"response\": {\"status_code\": 200, \"request_id\": \"03511ec44c6c9eb1c6f1d3161047627f\", \"body\": {\"id\": \"chatcmpl-B3G9iW2DRaAhtO9D2C865QZqrWfVy\", \"object\": \"chat.completion\", \"created\": 1740116786, \"model\": \"gpt-3.5-turbo-0125\", \"choices\": [{\"index\": 0, \"message\": {\"role\": \"assistant\", \"content\": \"{\\n  \\\"pali_sentence\\\": \\\"<b>attha 2.1</b>\\\",\\n  \\\"translation\\\": \\\"But from the complete fading away and cessation of ignorance there is cessation of volitional formations; from the cessation of volitional formations, cessation of consciousness; from the cessation of consciousness, cessation of name-and-form; from the cessation of name-and-form, cessation of the six sense bases; from the cessation of the six sense bases, cessation of contact; from the cessation of contact, cessation of feeling; from the cessation of feeling, cessation of craving; from the cessation of craving, cessation of clinging; from the cessation of clinging, cessation of existence; from the cessation of existence, cessation of birth; from the cessation of birth, aging-and-death, sorrow, lamentation, pain, displeasure, and despair cease.\\\",\\n  \\\"source\\\": \\\"DN 22.1\\\",\\n  \\\"flag_review\\\": false\\n}\", \"refusal\": null}, \"logprobs\": null, \"finish_reason\": \"stop\"}], \"usage\": {\"prompt_tokens\": 2152, \"completion_tokens\": 188, \"total_tokens\": 2340, \"prompt_tokens_details\": {\"cached_tokens\": 0, \"audio_tokens\": 0}, \"completion_tokens_details\": {\"reasoning_tokens\": 0, \"audio_tokens\": 0, \"accepted_prediction_tokens\": 0, \"rejected_prediction_tokens\": 0}}, \"service_tier\": \"default\", \"system_fingerprint\": null}}, \"error\": null}\n",
      "\n"
     ]
    }
   ],
   "source": [
    "file_response = client.files.content(\"file-3FNMaqZDxxS6uMEGkMK8mb\")\n",
    "print(file_response.text)"
   ]
  }
 ],
 "metadata": {
  "kernelspec": {
   "display_name": "llm",
   "language": "python",
   "name": "python3"
  },
  "language_info": {
   "codemirror_mode": {
    "name": "ipython",
    "version": 3
   },
   "file_extension": ".py",
   "mimetype": "text/x-python",
   "name": "python",
   "nbconvert_exporter": "python",
   "pygments_lexer": "ipython3",
   "version": "3.12.4"
  }
 },
 "nbformat": 4,
 "nbformat_minor": 2
}
