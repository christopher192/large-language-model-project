{
 "cells": [
  {
   "cell_type": "code",
   "execution_count": 7,
   "id": "89acd8e8",
   "metadata": {},
   "outputs": [],
   "source": [
    "from llama_index.core import Document\n",
    "from llama_index.core.node_parser import LangchainNodeParser\n",
    "from langchain.text_splitter import RecursiveCharacterTextSplitter"
   ]
  },
  {
   "cell_type": "code",
   "execution_count": 14,
   "id": "119ab30a",
   "metadata": {},
   "outputs": [
    {
     "name": "stdout",
     "output_type": "stream",
     "text": [
      "--- Node 1 ---\n",
      "\n",
      "Gleneagles Hospital Penang offers 24-hour emergency care and specialty services\n",
      "like cardiology, orthopaedics, and oncology.\n",
      "\n",
      "--- Node 2 ---\n",
      "Outpatient clinics operate weekdays\n",
      "from 8:30 AM to 4:30 PM.\n",
      "\n"
     ]
    }
   ],
   "source": [
    "doc = Document(text=\"\"\"\n",
    "Gleneagles Hospital Penang offers 24-hour emergency care and specialty services\n",
    "like cardiology, orthopaedics, and oncology. Outpatient clinics operate weekdays\n",
    "from 8:30 AM to 4:30 PM.\n",
    "\"\"\")\n",
    "\n",
    "splitter = RecursiveCharacterTextSplitter(\n",
    "    chunk_size=100,\n",
    "    chunk_overlap=20,\n",
    "    separators=[\"\\n\\n\", \"(?<=[.!?])\"],\n",
    "    is_separator_regex=True\n",
    ")\n",
    "\n",
    "parser = LangchainNodeParser(splitter)\n",
    "nodes = parser.get_nodes_from_documents([doc])\n",
    "\n",
    "# View the output chunks\n",
    "for i, node in enumerate(nodes):\n",
    "    print(f\"--- Node {i+1} ---\\n{node.text}\\n\")"
   ]
  },
  {
   "cell_type": "code",
   "execution_count": null,
   "id": "904ac5a3",
   "metadata": {},
   "outputs": [],
   "source": []
  }
 ],
 "metadata": {
  "kernelspec": {
   "display_name": "llm",
   "language": "python",
   "name": "python3"
  },
  "language_info": {
   "codemirror_mode": {
    "name": "ipython",
    "version": 3
   },
   "file_extension": ".py",
   "mimetype": "text/x-python",
   "name": "python",
   "nbconvert_exporter": "python",
   "pygments_lexer": "ipython3",
   "version": "3.12.4"
  }
 },
 "nbformat": 4,
 "nbformat_minor": 5
}
