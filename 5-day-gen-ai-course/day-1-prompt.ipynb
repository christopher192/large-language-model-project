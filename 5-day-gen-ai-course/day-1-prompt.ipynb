{
 "cells": [
  {
   "cell_type": "code",
   "execution_count": 14,
   "id": "7a6baad3",
   "metadata": {},
   "outputs": [],
   "source": [
    "import os\n",
    "from google import genai\n",
    "from google.genai import types\n",
    "from dotenv import load_dotenv\n",
    "from google.api_core import retry"
   ]
  },
  {
   "cell_type": "code",
   "execution_count": 15,
   "id": "a1cfccd5",
   "metadata": {},
   "outputs": [],
   "source": [
    "is_retriable = lambda e: (isinstance(e, genai.errors.APIError) and e.code in {429, 503})\n",
    "\n",
    "genai.models.Models.generate_content = retry.Retry(\n",
    "    predicate=is_retriable)(genai.models.Models.generate_content)"
   ]
  },
  {
   "cell_type": "code",
   "execution_count": 16,
   "id": "64b4dccc",
   "metadata": {},
   "outputs": [],
   "source": [
    "# Load environment variables from .env file\n",
    "load_dotenv()\n",
    "\n",
    "# Get API key from environment variables\n",
    "google_api_key = os.getenv(\"GEMINI_API_KEY\")"
   ]
  },
  {
   "cell_type": "code",
   "execution_count": 18,
   "id": "013ad8c3",
   "metadata": {},
   "outputs": [
    {
     "name": "stdout",
     "output_type": "stream",
     "text": [
      "Okay, imagine you have a really smart puppy, but it doesn't know anything yet.  That puppy is like AI!\n",
      "\n",
      "**Instead of teaching it tricks, we teach it how to learn.**\n",
      "\n",
      "*   **We show it LOTS of pictures of dogs.** Like, millions! We tell the puppy \"This is a dog, this is a dog, this is a dog!\"  After seeing so many dogs, the puppy learns to recognize a dog all by itself.\n",
      "*   **We teach it to play games.** Maybe a game like hide-and-seek.  The puppy will try different hiding spots, and we tell it \"good\" or \"bad.\"  Over time, it learns the best places to hide to win the game!\n",
      "*   **We feed it tons of stories.** The puppy then can start answering questions about the story, predicting what happens next, or even making up its own stories!\n",
      "\n",
      "That's what AI is all about.  It's about giving computers lots and lots of information and letting them learn to do things on their own, like:\n",
      "\n",
      "*   **Recognizing faces:** Like unlocking your mom's phone with her face!\n",
      "*   **Helping you find things on the internet:** Like when you ask a grownup to search for \"funny cat videos\"!\n",
      "*   **Playing games:** Like the really smart computer in chess!\n",
      "*   **Helping people drive cars:** So that one day cars can drive themselves!\n",
      "\n",
      "So, AI is like a super-smart puppy that can learn to do amazing things by learning from tons and tons of information. It's still learning and growing, and who knows what amazing things it will be able to do in the future!\n",
      "\n"
     ]
    }
   ],
   "source": [
    "client = genai.Client(api_key=google_api_key)\n",
    "\n",
    "response = client.models.generate_content(\n",
    "    model=\"gemini-2.0-flash\",\n",
    "    contents=\"Explain AI to me like I'm a kid.\")\n",
    "\n",
    "print(response.text)"
   ]
  },
  {
   "cell_type": "code",
   "execution_count": null,
   "id": "7e0920a8",
   "metadata": {},
   "outputs": [],
   "source": []
  }
 ],
 "metadata": {
  "kernelspec": {
   "display_name": "llm",
   "language": "python",
   "name": "python3"
  },
  "language_info": {
   "codemirror_mode": {
    "name": "ipython",
    "version": 3
   },
   "file_extension": ".py",
   "mimetype": "text/x-python",
   "name": "python",
   "nbconvert_exporter": "python",
   "pygments_lexer": "ipython3",
   "version": "3.12.4"
  }
 },
 "nbformat": 4,
 "nbformat_minor": 5
}
