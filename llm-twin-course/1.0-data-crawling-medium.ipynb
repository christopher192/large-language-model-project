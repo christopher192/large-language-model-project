{
 "cells": [
  {
   "cell_type": "code",
   "execution_count": 8,
   "id": "c3804701",
   "metadata": {},
   "outputs": [],
   "source": [
    "from bs4 import BeautifulSoup\n",
    "from selenium import webdriver\n",
    "from selenium.webdriver.common.by import By\n",
    "from selenium.webdriver.chrome.options import Options"
   ]
  },
  {
   "cell_type": "code",
   "execution_count": 9,
   "id": "a4209c2f",
   "metadata": {},
   "outputs": [],
   "source": [
    "options = Options()\n",
    "driver = webdriver.Chrome(options=options)\n",
    "driver.get(\"https://medium.com/m/signin\")\n",
    "driver.find_element(By.TAG_NAME, \"a\").click()"
   ]
  },
  {
   "cell_type": "code",
   "execution_count": null,
   "id": "1674d5eb",
   "metadata": {},
   "outputs": [],
   "source": []
  }
 ],
 "metadata": {
  "kernelspec": {
   "display_name": "llm",
   "language": "python",
   "name": "python3"
  },
  "language_info": {
   "codemirror_mode": {
    "name": "ipython",
    "version": 3
   },
   "file_extension": ".py",
   "mimetype": "text/x-python",
   "name": "python",
   "nbconvert_exporter": "python",
   "pygments_lexer": "ipython3",
   "version": "3.12.4"
  }
 },
 "nbformat": 4,
 "nbformat_minor": 5
}
