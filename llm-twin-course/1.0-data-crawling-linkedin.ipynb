{
 "cells": [
  {
   "cell_type": "code",
   "execution_count": 11,
   "id": "c3804701",
   "metadata": {},
   "outputs": [],
   "source": [
    "import time\n",
    "from bs4 import BeautifulSoup\n",
    "from selenium import webdriver\n",
    "from selenium.webdriver.common.by import By"
   ]
  },
  {
   "cell_type": "code",
   "execution_count": 12,
   "id": "ab10c250",
   "metadata": {},
   "outputs": [],
   "source": [
    "# --- Setup ---\n",
    "driver = webdriver.Chrome()"
   ]
  },
  {
   "cell_type": "code",
   "execution_count": null,
   "id": "8c497a14",
   "metadata": {},
   "outputs": [
    {
     "name": "stdout",
     "output_type": "stream",
     "text": [
      "Please log in manually...\n"
     ]
    }
   ],
   "source": [
    "# --- Step 1: Manually Login ---\n",
    "driver.get(\"https://www.linkedin.com/login\")\n",
    "print(\"Please log in manually...\")\n",
    "time.sleep(30) # Wait for manual login"
   ]
  },
  {
   "cell_type": "code",
   "execution_count": 13,
   "id": "c9820359",
   "metadata": {},
   "outputs": [],
   "source": [
    "# --- Step 2: Go to a Profile ---\n",
    "profile_url = \"https://www.linkedin.com/in/christopher-h-1545a1234/\"\n",
    "driver.get(profile_url)\n",
    "time.sleep(5)"
   ]
  },
  {
   "cell_type": "code",
   "execution_count": null,
   "id": "f134d1d6",
   "metadata": {},
   "outputs": [],
   "source": []
  }
 ],
 "metadata": {
  "kernelspec": {
   "display_name": "llm",
   "language": "python",
   "name": "python3"
  },
  "language_info": {
   "codemirror_mode": {
    "name": "ipython",
    "version": 3
   },
   "file_extension": ".py",
   "mimetype": "text/x-python",
   "name": "python",
   "nbconvert_exporter": "python",
   "pygments_lexer": "ipython3",
   "version": "3.12.4"
  }
 },
 "nbformat": 4,
 "nbformat_minor": 5
}
